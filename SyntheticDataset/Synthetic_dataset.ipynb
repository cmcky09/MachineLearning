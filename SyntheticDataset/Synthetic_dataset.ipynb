{
 "cells": [
  {
   "cell_type": "code",
   "execution_count": 1,
   "id": "1400db13",
   "metadata": {},
   "outputs": [
    {
     "data": {
      "text/html": [
       "<div>\n",
       "<style scoped>\n",
       "    .dataframe tbody tr th:only-of-type {\n",
       "        vertical-align: middle;\n",
       "    }\n",
       "\n",
       "    .dataframe tbody tr th {\n",
       "        vertical-align: top;\n",
       "    }\n",
       "\n",
       "    .dataframe thead th {\n",
       "        text-align: right;\n",
       "    }\n",
       "</style>\n",
       "<table border=\"1\" class=\"dataframe\">\n",
       "  <thead>\n",
       "    <tr style=\"text-align: right;\">\n",
       "      <th></th>\n",
       "      <th>f1</th>\n",
       "      <th>f2</th>\n",
       "    </tr>\n",
       "  </thead>\n",
       "  <tbody>\n",
       "    <tr>\n",
       "      <th>0</th>\n",
       "      <td>0.494261</td>\n",
       "      <td>1.451067</td>\n",
       "    </tr>\n",
       "    <tr>\n",
       "      <th>1</th>\n",
       "      <td>-1.428081</td>\n",
       "      <td>-0.837064</td>\n",
       "    </tr>\n",
       "    <tr>\n",
       "      <th>2</th>\n",
       "      <td>0.338559</td>\n",
       "      <td>1.038759</td>\n",
       "    </tr>\n",
       "    <tr>\n",
       "      <th>3</th>\n",
       "      <td>0.119001</td>\n",
       "      <td>-1.053976</td>\n",
       "    </tr>\n",
       "    <tr>\n",
       "      <th>4</th>\n",
       "      <td>1.122425</td>\n",
       "      <td>1.774937</td>\n",
       "    </tr>\n",
       "    <tr>\n",
       "      <th>...</th>\n",
       "      <td>...</td>\n",
       "      <td>...</td>\n",
       "    </tr>\n",
       "    <tr>\n",
       "      <th>745</th>\n",
       "      <td>0.505927</td>\n",
       "      <td>1.213927</td>\n",
       "    </tr>\n",
       "    <tr>\n",
       "      <th>746</th>\n",
       "      <td>-1.640461</td>\n",
       "      <td>-0.469973</td>\n",
       "    </tr>\n",
       "    <tr>\n",
       "      <th>747</th>\n",
       "      <td>-0.057139</td>\n",
       "      <td>-0.909261</td>\n",
       "    </tr>\n",
       "    <tr>\n",
       "      <th>748</th>\n",
       "      <td>-1.169394</td>\n",
       "      <td>0.039597</td>\n",
       "    </tr>\n",
       "    <tr>\n",
       "      <th>749</th>\n",
       "      <td>0.263230</td>\n",
       "      <td>-0.926499</td>\n",
       "    </tr>\n",
       "  </tbody>\n",
       "</table>\n",
       "<p>750 rows × 2 columns</p>\n",
       "</div>"
      ],
      "text/plain": [
       "           f1        f2\n",
       "0    0.494261  1.451067\n",
       "1   -1.428081 -0.837064\n",
       "2    0.338559  1.038759\n",
       "3    0.119001 -1.053976\n",
       "4    1.122425  1.774937\n",
       "..        ...       ...\n",
       "745  0.505927  1.213927\n",
       "746 -1.640461 -0.469973\n",
       "747 -0.057139 -0.909261\n",
       "748 -1.169394  0.039597\n",
       "749  0.263230 -0.926499\n",
       "\n",
       "[750 rows x 2 columns]"
      ]
     },
     "execution_count": 1,
     "metadata": {},
     "output_type": "execute_result"
    }
   ],
   "source": [
    "import pandas as pd\n",
    "df = pd.read_csv(\"clustering_synthetic_dataset.csv\")\n",
    "df"
   ]
  },
  {
   "cell_type": "code",
   "execution_count": 2,
   "id": "1492be69",
   "metadata": {},
   "outputs": [
    {
     "data": {
      "text/plain": [
       "<AxesSubplot:xlabel='f1', ylabel='f2'>"
      ]
     },
     "execution_count": 2,
     "metadata": {},
     "output_type": "execute_result"
    },
    {
     "data": {
      "image/png": "[encoded data removed]",
      "text/plain": [
       "<Figure size 432x288 with 1 Axes>"
      ]
     },
     "metadata": {
      "needs_background": "light"
     },
     "output_type": "display_data"
    }
   ],
   "source": [
    "df.plot(x='f1',y='f2',kind='scatter')"
   ]
  },
  {
   "cell_type": "code",
   "execution_count": 3,
   "id": "9b3b5630",
   "metadata": {},
   "outputs": [],
   "source": [
    "#def cluster_separation():\n",
    "    "
   ]
  },
  {
   "cell_type": "code",
   "execution_count": 4,
   "id": "547abc71",
   "metadata": {},
   "outputs": [
    {
     "ename": "ModuleNotFoundError",
     "evalue": "No module named 'sklearn'",
     "output_type": "error",
     "traceback": [
      "\u001b[1;31m---------------------------------------------------------------------------\u001b[0m",
      "\u001b[1;31mModuleNotFoundError\u001b[0m                       Traceback (most recent call last)",
      "\u001b[1;32m<ipython-input-4-bad5911eb342>\u001b[0m in \u001b[0;36m<module>\u001b[1;34m\u001b[0m\n\u001b[1;32m----> 1\u001b[1;33m \u001b[1;32mfrom\u001b[0m \u001b[0msklearn\u001b[0m\u001b[1;33m.\u001b[0m\u001b[0mcluster\u001b[0m \u001b[1;32mimport\u001b[0m \u001b[0mKMeans\u001b[0m\u001b[1;33m\u001b[0m\u001b[1;33m\u001b[0m\u001b[0m\n\u001b[0m\u001b[0;32m      2\u001b[0m \u001b[1;32mfrom\u001b[0m \u001b[0msklearn\u001b[0m\u001b[1;33m.\u001b[0m\u001b[0mmetrics\u001b[0m\u001b[1;33m.\u001b[0m\u001b[0mcluster\u001b[0m \u001b[1;32mimport\u001b[0m \u001b[0mcontingency_matrix\u001b[0m\u001b[1;33m\u001b[0m\u001b[1;33m\u001b[0m\u001b[0m\n\u001b[0;32m      3\u001b[0m \u001b[1;32mfrom\u001b[0m \u001b[0msklearn\u001b[0m\u001b[1;33m.\u001b[0m\u001b[0mmetrics\u001b[0m \u001b[1;32mimport\u001b[0m \u001b[0madjusted_rand_score\u001b[0m\u001b[1;33m\u001b[0m\u001b[1;33m\u001b[0m\u001b[0m\n\u001b[0;32m      4\u001b[0m \u001b[1;33m\u001b[0m\u001b[0m\n\u001b[0;32m      5\u001b[0m \u001b[1;33m\u001b[0m\u001b[0m\n",
      "\u001b[1;31mModuleNotFoundError\u001b[0m: No module named 'sklearn'"
     ]
    }
   ],
   "source": [
    "from sklearn.cluster import KMeans\n",
    "from sklearn.metrics.cluster import contingency_matrix\n",
    "from sklearn.metrics import adjusted_rand_score\n",
    "\n",
    "\n",
    "\n",
    "km = KMeans(n_clusters=3)\n",
    "km.fit(df)\n",
    "(km.cluster_centers_)\n"
   ]
  },
  {
   "cell_type": "code",
   "execution_count": null,
   "id": "ee65f4b7",
   "metadata": {},
   "outputs": [],
   "source": [
    "print(km.predict([[1,-1.5],[1,1.5],[2,2],[-2,-1]]))"
   ]
  },
  {
   "cell_type": "code",
   "execution_count": null,
   "id": "3594154a",
   "metadata": {},
   "outputs": [],
   "source": [
    "def euclidean_distance(x1,x2):\n",
    "    return ((x1[0]-x2[0])**2+(x1[1]-x2[1])**2)**.5"
   ]
  },
  {
   "cell_type": "code",
   "execution_count": null,
   "id": "b44bfe20",
   "metadata": {},
   "outputs": [],
   "source": [
    "import math\n",
    "def cluster_separation(km,num_clusters):\n",
    "    total = 0\n",
    "    for i in range(num_clusters):\n",
    "        for j in range(i+1,num_clusters):\n",
    "            total+=euclidean_distance(km.cluster_centers_[i],km.cluster_centers_[j])\n",
    "    return total/math.comb(num_clusters,2)\n",
    "    "
   ]
  },
  {
   "cell_type": "code",
   "execution_count": null,
   "id": "97af51ff",
   "metadata": {},
   "outputs": [],
   "source": [
    "def cluster_cohesion(km,num_clusters,X):\n",
    "    counts = [0]*num_clusters\n",
    "    sums = [0]*num_clusters\n",
    "    centers = km.cluster_centers_\n",
    "    for i in range(len(X)):\n",
    "        pred = km.predict([X.iloc[i]])[0]\n",
    "        counts[pred]+=1\n",
    "        sums[pred] += euclidean_distance(centers[pred],X.iloc[i])\n",
    "    \n",
    "    #print(counts)\n",
    "    #print(sums)\n",
    "    for i in range(len(sums)):\n",
    "        sums[i]/=counts[i]\n",
    "    return max(sums)\n",
    "    "
   ]
  },
  {
   "cell_type": "code",
   "execution_count": null,
   "id": "a8df75b0",
   "metadata": {},
   "outputs": [],
   "source": [
    "import warnings\n",
    "warnings.filterwarnings(\"ignore\")\n",
    "num_clusters = (2,3,4,5)\n",
    "for i in num_clusters:\n",
    "    km = KMeans(n_clusters=i)\n",
    "    km.fit(df)\n",
    "    print(f\"For {i:d} clusters, the cluster separation \"\n",
    "          f\"is {cluster_separation(km,i):.3f} and the max cluster cohesion is {cluster_cohesion(km,i,df):.3f}\")\n",
    "    "
   ]
  },
  {
   "cell_type": "markdown",
   "id": "9fe09271",
   "metadata": {},
   "source": [
    "Q1: given the above metrics, and the scatterplot, I say there are 3 species."
   ]
  },
  {
   "cell_type": "code",
   "execution_count": null,
   "id": "56421725",
   "metadata": {},
   "outputs": [],
   "source": [
    "km = KMeans(n_clusters=3,random_state=1)#I accidentally hard coded the cluster labels in later code,\n",
    "#so random_state=1 is required\n",
    "km.fit(df)\n",
    "(km.cluster_centers_)"
   ]
  },
  {
   "cell_type": "code",
   "execution_count": null,
   "id": "abb85c70",
   "metadata": {},
   "outputs": [],
   "source": []
  },
  {
   "cell_type": "code",
   "execution_count": null,
   "id": "a4c74734",
   "metadata": {},
   "outputs": [],
   "source": [
    "%matplotlib inline\n",
    "import matplotlib.pyplot as plt\n",
    "\n",
    "Colors = ['darkorchid', 'darkgreen', 'darkgrey', 'darksalmon', 'darkseagreen']\n",
    "for i in range(len(df)):\n",
    "    pred = km.predict([df.iloc[i]])[0]\n",
    "    plt.scatter(df.iloc[i][0],df.iloc[i][1],color = Colors[pred])\n",
    "plt.plot()"
   ]
  },
  {
   "cell_type": "code",
   "execution_count": null,
   "id": "55318c34",
   "metadata": {},
   "outputs": [],
   "source": [
    "%matplotlib inline\n",
    "import matplotlib.pyplot as plt\n",
    "Colors = ['darkorchid', 'darkgreen', 'darkgrey', 'darksalmon', 'darkseagreen']\n",
    "anomalies = [[],[],[]]\n",
    "unclean_classes = []\n",
    "for i in range(len(df)):\n",
    "    pred = km.predict([df.iloc[i]])[0]\n",
    "    unclean_classes.append(pred)\n",
    "    if pred ==0:\n",
    "        if (not (0<df.iloc[i][0]<1.5)) or not (.5<df.iloc[i][1]<2):\n",
    "            anomalies[pred].append(df.iloc[i])\n",
    "            continue\n",
    "    if pred ==1:\n",
    "        if (not (-2<df.iloc[i][0]<-.5)) or not (-1.5<df.iloc[i][1]<0):\n",
    "            anomalies[pred].append(df.iloc[i])\n",
    "            continue\n",
    "    if pred ==2:\n",
    "        if (not (0<df.iloc[i][0]<1.5)) or not (-1.5<df.iloc[i][1]<0):\n",
    "            anomalies[pred].append(df.iloc[i])\n",
    "            continue\n",
    "    plt.scatter(df.iloc[i][0],df.iloc[i][1],color = Colors[pred])\n",
    "    \n",
    "unclean_classes = pd.DataFrame(unclean_classes,columns = ['class'])\n",
    "plt.plot()"
   ]
  },
  {
   "cell_type": "markdown",
   "id": "f14c0a4d",
   "metadata": {},
   "source": [
    "Q2: Cluster 0 has feature 1 in range (0,1.5), and feature 2 in range (.5,2)\n",
    "Cluster 1 has feature 1 in range (-2,-.5), and feature 2 in range (-1.5,0)\n",
    "Cluster 2 has feature 1 in range (0,1.5), and feature 2 in range (-1.5,0)"
   ]
  },
  {
   "cell_type": "code",
   "execution_count": null,
   "id": "188f8b35",
   "metadata": {},
   "outputs": [],
   "source": [
    "%matplotlib inline\n",
    "import matplotlib.pyplot as plt\n",
    "#Q3\n",
    "for i in range(len(anomalies)):#Is there more math to determining anomalies, or do I just decide on the ranges?\n",
    "    for X in anomalies[i]:\n",
    "        plt.scatter(X[0],X[1],color = Colors[i])\n",
    "plt.plot()"
   ]
  },
  {
   "cell_type": "code",
   "execution_count": null,
   "id": "91bffaad",
   "metadata": {},
   "outputs": [],
   "source": [
    "from sklearn.cluster import DBSCAN\n",
    "\n",
    "dbs=DBSCAN(eps=.175)#am I supposed to try to tune the hyperparameters to get 3 clusters?\n",
    "preds=dbs.fit_predict(df,y=df)\n",
    "print(preds)"
   ]
  },
  {
   "cell_type": "code",
   "execution_count": null,
   "id": "bdf734d6",
   "metadata": {},
   "outputs": [],
   "source": []
  },
  {
   "cell_type": "code",
   "execution_count": null,
   "id": "49ceec56",
   "metadata": {},
   "outputs": [],
   "source": [
    "new_df = []\n",
    "class_labels = []\n",
    "for i in range(len(df)):\n",
    "    if preds[i]!=-1:\n",
    "        class_labels.append(preds[i])\n",
    "        new_df.append(df.iloc[i])\n",
    "        \n",
    "new_df=pd.DataFrame(new_df)\n",
    "new_df"
   ]
  },
  {
   "cell_type": "code",
   "execution_count": null,
   "id": "bb6a2f3c",
   "metadata": {},
   "outputs": [],
   "source": [
    "X = new_df\n",
    "y = pd.DataFrame(class_labels,columns=['class'])\n",
    "y"
   ]
  },
  {
   "cell_type": "code",
   "execution_count": null,
   "id": "418aa4a9",
   "metadata": {},
   "outputs": [],
   "source": [
    "from sklearn.tree import DecisionTreeClassifier\n",
    "from sklearn.tree import plot_tree\n",
    "dtc = DecisionTreeClassifier()\n",
    "dtc.fit(X,y)\n",
    "plot_tree(dtc)"
   ]
  },
  {
   "cell_type": "code",
   "execution_count": null,
   "id": "62c93aa3",
   "metadata": {},
   "outputs": [],
   "source": [
    "from sklearn.model_selection import train_test_split\n",
    "from sklearn.metrics import accuracy_score\n",
    "#Q6 clean tree\n",
    "X_train, X_test, y_train, y_test = train_test_split(new_df, y, test_size=0.9, random_state=0)\n",
    "#incredible accuracy score even from such a small training set\n",
    "dtc.fit(X_train,y_train)\n",
    "print(\"Clean tree on clean data accuracy:\",accuracy_score(y_test,dtc.predict(X_test)))\n",
    "\n",
    "#unclean tree\n",
    "dtc2 = DecisionTreeClassifier()\n",
    "X_train, X_test, y_train, y_test = train_test_split(df, unclean_classes, test_size=0.4, random_state=0)\n",
    "dtc2.fit(X_train,y_train)\n",
    "print(\"Unclean tree on unclean data accuracy:\",accuracy_score(y_test,dtc2.predict(X_test)))\n",
    "print(\"Clean tree on unclean data accuracy:\",accuracy_score(y_test,dtc.predict(X_test)))"
   ]
  },
  {
   "cell_type": "code",
   "execution_count": null,
   "id": "9eec0f7e",
   "metadata": {},
   "outputs": [],
   "source": [
    "import numpy as np\n",
    "dist = lambda a, b : np.sqrt(np.sum((a-b)**2))\n",
    "print(dist(np.array([1,2]),np.array([4,1])))"
   ]
  }
 ],
 "metadata": {
  "kernelspec": {
   "display_name": "Python 3",
   "language": "python",
   "name": "python3"
  },
  "language_info": {
   "codemirror_mode": {
    "name": "ipython",
    "version": 3
   },
   "file_extension": ".py",
   "mimetype": "text/x-python",
   "name": "python",
   "nbconvert_exporter": "python",
   "pygments_lexer": "ipython3",
   "version": "3.8.8"
  }
 },
 "nbformat": 4,
 "nbformat_minor": 5
}
