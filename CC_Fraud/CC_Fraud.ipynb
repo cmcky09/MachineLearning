{
 "cells": [
  {
   "cell_type": "code",
   "execution_count": 1,
   "id": "21dcf97c",
   "metadata": {},
   "outputs": [
    {
     "ename": "FileNotFoundError",
     "evalue": "[Errno 2] No such file or directory: 'creditcard.csv'",
     "output_type": "error",
     "traceback": [
      "\u001b[1;31m---------------------------------------------------------------------------\u001b[0m",
      "\u001b[1;31mFileNotFoundError\u001b[0m                         Traceback (most recent call last)",
      "\u001b[1;32m<ipython-input-1-d0b110e6b20e>\u001b[0m in \u001b[0;36m<module>\u001b[1;34m\u001b[0m\n\u001b[0;32m      1\u001b[0m \u001b[1;32mimport\u001b[0m \u001b[0mpandas\u001b[0m \u001b[1;32mas\u001b[0m \u001b[0mpd\u001b[0m\u001b[1;33m\u001b[0m\u001b[1;33m\u001b[0m\u001b[0m\n\u001b[1;32m----> 2\u001b[1;33m \u001b[0mdf\u001b[0m \u001b[1;33m=\u001b[0m \u001b[0mpd\u001b[0m\u001b[1;33m.\u001b[0m\u001b[0mread_csv\u001b[0m\u001b[1;33m(\u001b[0m\u001b[1;34m'creditcard.csv'\u001b[0m\u001b[1;33m)\u001b[0m\u001b[1;33m\u001b[0m\u001b[1;33m\u001b[0m\u001b[0m\n\u001b[0m\u001b[0;32m      3\u001b[0m \u001b[0mdf\u001b[0m\u001b[1;33m\u001b[0m\u001b[1;33m\u001b[0m\u001b[0m\n",
      "\u001b[1;32mC:\\Python3\\lib\\site-packages\\pandas\\io\\parsers.py\u001b[0m in \u001b[0;36mread_csv\u001b[1;34m(filepath_or_buffer, sep, delimiter, header, names, index_col, usecols, squeeze, prefix, mangle_dupe_cols, dtype, engine, converters, true_values, false_values, skipinitialspace, skiprows, skipfooter, nrows, na_values, keep_default_na, na_filter, verbose, skip_blank_lines, parse_dates, infer_datetime_format, keep_date_col, date_parser, dayfirst, cache_dates, iterator, chunksize, compression, thousands, decimal, lineterminator, quotechar, quoting, doublequote, escapechar, comment, encoding, dialect, error_bad_lines, warn_bad_lines, delim_whitespace, low_memory, memory_map, float_precision, storage_options)\u001b[0m\n\u001b[0;32m    608\u001b[0m     \u001b[0mkwds\u001b[0m\u001b[1;33m.\u001b[0m\u001b[0mupdate\u001b[0m\u001b[1;33m(\u001b[0m\u001b[0mkwds_defaults\u001b[0m\u001b[1;33m)\u001b[0m\u001b[1;33m\u001b[0m\u001b[1;33m\u001b[0m\u001b[0m\n\u001b[0;32m    609\u001b[0m \u001b[1;33m\u001b[0m\u001b[0m\n\u001b[1;32m--> 610\u001b[1;33m     \u001b[1;32mreturn\u001b[0m \u001b[0m_read\u001b[0m\u001b[1;33m(\u001b[0m\u001b[0mfilepath_or_buffer\u001b[0m\u001b[1;33m,\u001b[0m \u001b[0mkwds\u001b[0m\u001b[1;33m)\u001b[0m\u001b[1;33m\u001b[0m\u001b[1;33m\u001b[0m\u001b[0m\n\u001b[0m\u001b[0;32m    611\u001b[0m \u001b[1;33m\u001b[0m\u001b[0m\n\u001b[0;32m    612\u001b[0m \u001b[1;33m\u001b[0m\u001b[0m\n",
      "\u001b[1;32mC:\\Python3\\lib\\site-packages\\pandas\\io\\parsers.py\u001b[0m in \u001b[0;36m_read\u001b[1;34m(filepath_or_buffer, kwds)\u001b[0m\n\u001b[0;32m    460\u001b[0m \u001b[1;33m\u001b[0m\u001b[0m\n\u001b[0;32m    461\u001b[0m     \u001b[1;31m# Create the parser.\u001b[0m\u001b[1;33m\u001b[0m\u001b[1;33m\u001b[0m\u001b[1;33m\u001b[0m\u001b[0m\n\u001b[1;32m--> 462\u001b[1;33m     \u001b[0mparser\u001b[0m \u001b[1;33m=\u001b[0m \u001b[0mTextFileReader\u001b[0m\u001b[1;33m(\u001b[0m\u001b[0mfilepath_or_buffer\u001b[0m\u001b[1;33m,\u001b[0m \u001b[1;33m**\u001b[0m\u001b[0mkwds\u001b[0m\u001b[1;33m)\u001b[0m\u001b[1;33m\u001b[0m\u001b[1;33m\u001b[0m\u001b[0m\n\u001b[0m\u001b[0;32m    463\u001b[0m \u001b[1;33m\u001b[0m\u001b[0m\n\u001b[0;32m    464\u001b[0m     \u001b[1;32mif\u001b[0m \u001b[0mchunksize\u001b[0m \u001b[1;32mor\u001b[0m \u001b[0miterator\u001b[0m\u001b[1;33m:\u001b[0m\u001b[1;33m\u001b[0m\u001b[1;33m\u001b[0m\u001b[0m\n",
      "\u001b[1;32mC:\\Python3\\lib\\site-packages\\pandas\\io\\parsers.py\u001b[0m in \u001b[0;36m__init__\u001b[1;34m(self, f, engine, **kwds)\u001b[0m\n\u001b[0;32m    817\u001b[0m             \u001b[0mself\u001b[0m\u001b[1;33m.\u001b[0m\u001b[0moptions\u001b[0m\u001b[1;33m[\u001b[0m\u001b[1;34m\"has_index_names\"\u001b[0m\u001b[1;33m]\u001b[0m \u001b[1;33m=\u001b[0m \u001b[0mkwds\u001b[0m\u001b[1;33m[\u001b[0m\u001b[1;34m\"has_index_names\"\u001b[0m\u001b[1;33m]\u001b[0m\u001b[1;33m\u001b[0m\u001b[1;33m\u001b[0m\u001b[0m\n\u001b[0;32m    818\u001b[0m \u001b[1;33m\u001b[0m\u001b[0m\n\u001b[1;32m--> 819\u001b[1;33m         \u001b[0mself\u001b[0m\u001b[1;33m.\u001b[0m\u001b[0m_engine\u001b[0m \u001b[1;33m=\u001b[0m \u001b[0mself\u001b[0m\u001b[1;33m.\u001b[0m\u001b[0m_make_engine\u001b[0m\u001b[1;33m(\u001b[0m\u001b[0mself\u001b[0m\u001b[1;33m.\u001b[0m\u001b[0mengine\u001b[0m\u001b[1;33m)\u001b[0m\u001b[1;33m\u001b[0m\u001b[1;33m\u001b[0m\u001b[0m\n\u001b[0m\u001b[0;32m    820\u001b[0m \u001b[1;33m\u001b[0m\u001b[0m\n\u001b[0;32m    821\u001b[0m     \u001b[1;32mdef\u001b[0m \u001b[0mclose\u001b[0m\u001b[1;33m(\u001b[0m\u001b[0mself\u001b[0m\u001b[1;33m)\u001b[0m\u001b[1;33m:\u001b[0m\u001b[1;33m\u001b[0m\u001b[1;33m\u001b[0m\u001b[0m\n",
      "\u001b[1;32mC:\\Python3\\lib\\site-packages\\pandas\\io\\parsers.py\u001b[0m in \u001b[0;36m_make_engine\u001b[1;34m(self, engine)\u001b[0m\n\u001b[0;32m   1048\u001b[0m             )\n\u001b[0;32m   1049\u001b[0m         \u001b[1;31m# error: Too many arguments for \"ParserBase\"\u001b[0m\u001b[1;33m\u001b[0m\u001b[1;33m\u001b[0m\u001b[1;33m\u001b[0m\u001b[0m\n\u001b[1;32m-> 1050\u001b[1;33m         \u001b[1;32mreturn\u001b[0m \u001b[0mmapping\u001b[0m\u001b[1;33m[\u001b[0m\u001b[0mengine\u001b[0m\u001b[1;33m]\u001b[0m\u001b[1;33m(\u001b[0m\u001b[0mself\u001b[0m\u001b[1;33m.\u001b[0m\u001b[0mf\u001b[0m\u001b[1;33m,\u001b[0m \u001b[1;33m**\u001b[0m\u001b[0mself\u001b[0m\u001b[1;33m.\u001b[0m\u001b[0moptions\u001b[0m\u001b[1;33m)\u001b[0m  \u001b[1;31m# type: ignore[call-arg]\u001b[0m\u001b[1;33m\u001b[0m\u001b[1;33m\u001b[0m\u001b[0m\n\u001b[0m\u001b[0;32m   1051\u001b[0m \u001b[1;33m\u001b[0m\u001b[0m\n\u001b[0;32m   1052\u001b[0m     \u001b[1;32mdef\u001b[0m \u001b[0m_failover_to_python\u001b[0m\u001b[1;33m(\u001b[0m\u001b[0mself\u001b[0m\u001b[1;33m)\u001b[0m\u001b[1;33m:\u001b[0m\u001b[1;33m\u001b[0m\u001b[1;33m\u001b[0m\u001b[0m\n",
      "\u001b[1;32mC:\\Python3\\lib\\site-packages\\pandas\\io\\parsers.py\u001b[0m in \u001b[0;36m__init__\u001b[1;34m(self, src, **kwds)\u001b[0m\n\u001b[0;32m   1865\u001b[0m \u001b[1;33m\u001b[0m\u001b[0m\n\u001b[0;32m   1866\u001b[0m         \u001b[1;31m# open handles\u001b[0m\u001b[1;33m\u001b[0m\u001b[1;33m\u001b[0m\u001b[1;33m\u001b[0m\u001b[0m\n\u001b[1;32m-> 1867\u001b[1;33m         \u001b[0mself\u001b[0m\u001b[1;33m.\u001b[0m\u001b[0m_open_handles\u001b[0m\u001b[1;33m(\u001b[0m\u001b[0msrc\u001b[0m\u001b[1;33m,\u001b[0m \u001b[0mkwds\u001b[0m\u001b[1;33m)\u001b[0m\u001b[1;33m\u001b[0m\u001b[1;33m\u001b[0m\u001b[0m\n\u001b[0m\u001b[0;32m   1868\u001b[0m         \u001b[1;32massert\u001b[0m \u001b[0mself\u001b[0m\u001b[1;33m.\u001b[0m\u001b[0mhandles\u001b[0m \u001b[1;32mis\u001b[0m \u001b[1;32mnot\u001b[0m \u001b[1;32mNone\u001b[0m\u001b[1;33m\u001b[0m\u001b[1;33m\u001b[0m\u001b[0m\n\u001b[0;32m   1869\u001b[0m         \u001b[1;32mfor\u001b[0m \u001b[0mkey\u001b[0m \u001b[1;32min\u001b[0m \u001b[1;33m(\u001b[0m\u001b[1;34m\"storage_options\"\u001b[0m\u001b[1;33m,\u001b[0m \u001b[1;34m\"encoding\"\u001b[0m\u001b[1;33m,\u001b[0m \u001b[1;34m\"memory_map\"\u001b[0m\u001b[1;33m,\u001b[0m \u001b[1;34m\"compression\"\u001b[0m\u001b[1;33m)\u001b[0m\u001b[1;33m:\u001b[0m\u001b[1;33m\u001b[0m\u001b[1;33m\u001b[0m\u001b[0m\n",
      "\u001b[1;32mC:\\Python3\\lib\\site-packages\\pandas\\io\\parsers.py\u001b[0m in \u001b[0;36m_open_handles\u001b[1;34m(self, src, kwds)\u001b[0m\n\u001b[0;32m   1360\u001b[0m         \u001b[0mLet\u001b[0m \u001b[0mthe\u001b[0m \u001b[0mreaders\u001b[0m \u001b[0mopen\u001b[0m \u001b[0mIOHanldes\u001b[0m \u001b[0mafter\u001b[0m \u001b[0mthey\u001b[0m \u001b[0mare\u001b[0m \u001b[0mdone\u001b[0m \u001b[1;32mwith\u001b[0m \u001b[0mtheir\u001b[0m \u001b[0mpotential\u001b[0m \u001b[0mraises\u001b[0m\u001b[1;33m.\u001b[0m\u001b[1;33m\u001b[0m\u001b[1;33m\u001b[0m\u001b[0m\n\u001b[0;32m   1361\u001b[0m         \"\"\"\n\u001b[1;32m-> 1362\u001b[1;33m         self.handles = get_handle(\n\u001b[0m\u001b[0;32m   1363\u001b[0m             \u001b[0msrc\u001b[0m\u001b[1;33m,\u001b[0m\u001b[1;33m\u001b[0m\u001b[1;33m\u001b[0m\u001b[0m\n\u001b[0;32m   1364\u001b[0m             \u001b[1;34m\"r\"\u001b[0m\u001b[1;33m,\u001b[0m\u001b[1;33m\u001b[0m\u001b[1;33m\u001b[0m\u001b[0m\n",
      "\u001b[1;32mC:\\Python3\\lib\\site-packages\\pandas\\io\\common.py\u001b[0m in \u001b[0;36mget_handle\u001b[1;34m(path_or_buf, mode, encoding, compression, memory_map, is_text, errors, storage_options)\u001b[0m\n\u001b[0;32m    640\u001b[0m                 \u001b[0merrors\u001b[0m \u001b[1;33m=\u001b[0m \u001b[1;34m\"replace\"\u001b[0m\u001b[1;33m\u001b[0m\u001b[1;33m\u001b[0m\u001b[0m\n\u001b[0;32m    641\u001b[0m             \u001b[1;31m# Encoding\u001b[0m\u001b[1;33m\u001b[0m\u001b[1;33m\u001b[0m\u001b[1;33m\u001b[0m\u001b[0m\n\u001b[1;32m--> 642\u001b[1;33m             handle = open(\n\u001b[0m\u001b[0;32m    643\u001b[0m                 \u001b[0mhandle\u001b[0m\u001b[1;33m,\u001b[0m\u001b[1;33m\u001b[0m\u001b[1;33m\u001b[0m\u001b[0m\n\u001b[0;32m    644\u001b[0m                 \u001b[0mioargs\u001b[0m\u001b[1;33m.\u001b[0m\u001b[0mmode\u001b[0m\u001b[1;33m,\u001b[0m\u001b[1;33m\u001b[0m\u001b[1;33m\u001b[0m\u001b[0m\n",
      "\u001b[1;31mFileNotFoundError\u001b[0m: [Errno 2] No such file or directory: 'creditcard.csv'"
     ]
    }
   ],
   "source": [
    "import pandas as pd\n",
    "df = pd.read_csv('creditcard.csv')\n",
    "df"
   ]
  },
  {
   "cell_type": "code",
   "execution_count": null,
   "id": "de251f95",
   "metadata": {},
   "outputs": [],
   "source": [
    "#q1\n",
    "x = df[df['Class']==1].count()\n",
    "print(x)"
   ]
  },
  {
   "cell_type": "code",
   "execution_count": null,
   "id": "20f66c99",
   "metadata": {},
   "outputs": [],
   "source": [
    "df['Time']"
   ]
  },
  {
   "cell_type": "code",
   "execution_count": null,
   "id": "6156ff47",
   "metadata": {},
   "outputs": [],
   "source": [
    "Last_transaction = 172792.0/(60**2)\n",
    "print(f\"The last transaction occured {Last_transaction:.2f} hours later\")"
   ]
  },
  {
   "cell_type": "code",
   "execution_count": null,
   "id": "cb4dc345",
   "metadata": {},
   "outputs": [],
   "source": [
    "for i in range(20):\n",
    "    print(df['Time'][i])"
   ]
  },
  {
   "cell_type": "code",
   "execution_count": null,
   "id": "7cd6cbd6",
   "metadata": {},
   "outputs": [],
   "source": [
    "#q2\n",
    "class_balance = 492/284807\n",
    "print(class_balance)\n",
    "#evaluation metric: AUC?  L2?"
   ]
  },
  {
   "cell_type": "code",
   "execution_count": null,
   "id": "186f58a1",
   "metadata": {},
   "outputs": [],
   "source": [
    "from sklearn import preprocessing\n",
    "#q3\n",
    "#Time column: This dataset is European Credit cards over 48 hours.  Europe spans 3 time zones. divide time column by 3600\n",
    "#and take mod 24, maybe +/- 2, especially since people can travel all over EU in a day.\n",
    "#So not exactly normalization or standardization, but it is something that can help clustering\n",
    "#Looking ahead, some will be optimization problems, so maybe normalization for the other features\n",
    "#If I had more data, I might split it and weight the frauds by amount. But not here,\n",
    "#because amount is a feature that may predict fraud\n",
    "#Also, integer monetary amounts ($10 as opposed to $9.95+Tax) make me think that these particular transactions are \n",
    "#ATM withdrawals, but that is too much to assume"
   ]
  },
  {
   "cell_type": "code",
   "execution_count": null,
   "id": "2252c5cd",
   "metadata": {},
   "outputs": [],
   "source": [
    "df.Time= (df.Time/3600)%24"
   ]
  },
  {
   "cell_type": "code",
   "execution_count": null,
   "id": "4a2bcfec",
   "metadata": {},
   "outputs": [],
   "source": [
    "df['Time']"
   ]
  },
  {
   "cell_type": "code",
   "execution_count": null,
   "id": "2e7314c4",
   "metadata": {},
   "outputs": [],
   "source": [
    "min_max_scaler = preprocessing.MinMaxScaler()\n",
    "df[[name  for name in list(df) if name not in ['Time','Class']]] = min_max_scaler.fit_transform(df[[name for name in list(df) if name not in ['Time','Class']]])"
   ]
  },
  {
   "cell_type": "code",
   "execution_count": null,
   "id": "1d135a8b",
   "metadata": {},
   "outputs": [],
   "source": [
    "df"
   ]
  },
  {
   "cell_type": "code",
   "execution_count": null,
   "id": "88e5f959",
   "metadata": {},
   "outputs": [],
   "source": [
    "#q4\n",
    "from sklearn.model_selection import train_test_split\n",
    "from sklearn.metrics import accuracy_score\n",
    "\n",
    "X = df.drop('Class', axis=1)\n",
    "y = df['Class']\n",
    "X_r, X_s, y_r, y_s = train_test_split(X, y, test_size=0.5, stratify=y, random_state=0)"
   ]
  },
  {
   "cell_type": "code",
   "execution_count": null,
   "id": "bee470c1",
   "metadata": {},
   "outputs": [],
   "source": [
    "count = 0\n",
    "for x in y_r:\n",
    "    if x==1:\n",
    "        count+=1\n",
    "print(count)"
   ]
  },
  {
   "cell_type": "code",
   "execution_count": null,
   "id": "fd5a6a22",
   "metadata": {},
   "outputs": [],
   "source": [
    "from sklearn.svm import SVC\n",
    "from sklearn.tree import DecisionTreeClassifier\n",
    "from sklearn.neural_network  import MLPClassifier\n",
    "from sklearn.ensemble  import RandomForestClassifier\n"
   ]
  },
  {
   "cell_type": "code",
   "execution_count": null,
   "id": "84705d6d",
   "metadata": {},
   "outputs": [],
   "source": [
    "#no regularization\n",
    "#I get an improvement in accuracy by doing the operation on the time column\n",
    "classifiers = [SVC,DecisionTreeClassifier,MLPClassifier,RandomForestClassifier]\n",
    "for classifier in classifiers:\n",
    "    print(classifier,\" accuracy: \",accuracy_score(y_s,classifier().fit(X_r,y_r).predict(X_s)))"
   ]
  },
  {
   "cell_type": "code",
   "execution_count": null,
   "id": "a4f20966",
   "metadata": {},
   "outputs": [],
   "source": [
    "from sklearn import tree\n",
    "clf1 = tree.DecisionTreeClassifier(random_state=0, min_samples_split=10)\n",
    "clf1.fit(X_r, y_r)\n",
    "tree.plot_tree(clf1)"
   ]
  },
  {
   "cell_type": "code",
   "execution_count": null,
   "id": "48615fda",
   "metadata": {},
   "outputs": [],
   "source": [
    "print(\"unpruned accuracy: \",accuracy_score(y_s,clf1.predict(X_s)))"
   ]
  },
  {
   "cell_type": "code",
   "execution_count": null,
   "id": "97082b53",
   "metadata": {},
   "outputs": [],
   "source": [
    "#Tree pruning\n",
    "Alpha=9.55 *(10**-5)\n",
    "clf2 = DecisionTreeClassifier(random_state=0, ccp_alpha=Alpha)\n",
    "clf2.fit(X_r, y_r)\n",
    "tree.plot_tree(clf2)"
   ]
  },
  {
   "cell_type": "code",
   "execution_count": null,
   "id": "4b5a6ea3",
   "metadata": {},
   "outputs": [],
   "source": [
    "print(\"pruned accuracy: \",accuracy_score(y_s,clf2.predict(X_s)))"
   ]
  },
  {
   "cell_type": "code",
   "execution_count": null,
   "id": "248eb3d3",
   "metadata": {},
   "outputs": [],
   "source": [
    "#SVC regularization trial runs\n",
    "C =[1,2,10,20,50]\n",
    "kernel = ['linear','rbf']\n",
    "for k in kernel:\n",
    "    for c in C:\n",
    "        svc = SVC(kernel = k,C=c).fit(X_r,y_r)\n",
    "        print(f\"accuracy with kernel={k:s} C={c:d}:\",accuracy_score(y_s,svc.predict(X_s)))\n",
    "        #increasing C slightly better accuracy for rbf"
   ]
  },
  {
   "cell_type": "code",
   "execution_count": null,
   "id": "61358cde",
   "metadata": {},
   "outputs": [],
   "source": [
    "#mlp regularization\n",
    "alphas =[.001,.01,.1,.2,.5,1]\n",
    "kernel = ['linear','rbf']\n",
    "for alpha in alphas:\n",
    "    mlp = MLPClassifier(alpha=alpha).fit(X_r,y_r)\n",
    "    print(f\"accuracy with penalty={alpha:.3f}:\",accuracy_score(y_s,mlp.predict(X_s)))"
   ]
  },
  {
   "cell_type": "code",
   "execution_count": null,
   "id": "6666b34e",
   "metadata": {},
   "outputs": [],
   "source": [
    "import torch\n",
    "import torch.nn as nn"
   ]
  },
  {
   "cell_type": "code",
   "execution_count": null,
   "id": "fac8ecb6",
   "metadata": {},
   "outputs": [],
   "source": [
    "class PyTorchMLP(nn.Module):  # One hidden layer\n",
    "    def __init__(self, n_hidden=10,n_hidden_2=10, epochs=100, eta=0.001, minibatch_size=50, seed=0):\n",
    "        super(PyTorchMLP, self).__init__()\n",
    "        self.random = np.random.RandomState(seed)  # shuffle mini batches\n",
    "        self.n_hidden = n_hidden  # size of the hidden layer\n",
    "        self.n_hidden_2 = n_hidden_2\n",
    "        self.epochs = epochs  # number of iterations\n",
    "        self.eta = eta  # learning rate\n",
    "        self.minibatch_size = minibatch_size  # size of training batch - 1 would not work\n",
    "        self.optimizer = None\n",
    "        self.loss_func = torch.nn.CrossEntropyLoss()\n",
    "        self.model = None\n",
    "\n",
    "    def init_layers(self, _M:int, _K:int) -> None:\n",
    "        # data structure\n",
    "        self.model = torch.nn.Sequential(\n",
    "            torch.nn.Linear(_M, self.n_hidden),\n",
    "            torch.nn.Sigmoid(),\n",
    "            torch.nn.Linear(self.n_hidden, self.n_hidden),\n",
    "            torch.nn.Sigmoid(),\n",
    "            torch.nn.Linear(self.n_hidden, self.n_hidden_2),\n",
    "            torch.nn.Sigmoid(),\n",
    "            torch.nn.Linear(self.n_hidden_2, self.n_hidden_2),\n",
    "            torch.nn.Sigmoid(),\n",
    "            torch.nn.Linear(self.n_hidden_2, _K),\n",
    "        )\n",
    "    \n",
    "    def predict(self, _X):\n",
    "        _X = torch.FloatTensor(_X)\n",
    "        assert self.model is not None\n",
    "        self.model.eval()\n",
    "        with torch.no_grad():\n",
    "            y_pred = np.argmax(self.model(_X), axis=1)\n",
    "        self.model.train()\n",
    "        return y_pred.numpy()\n",
    "\n",
    "    def fit(self, _X_train, _y_train, info=False):\n",
    "        import sys\n",
    "        _X_train, _y_train = torch.FloatTensor(_X_train), torch.LongTensor(_y_train)\n",
    "        n_features= _X_train.shape[1]\n",
    "        n_output= np.unique(_y_train).shape[0]  # number of class labels\n",
    "        \n",
    "        self.init_layers(n_features, n_output)\n",
    "        self.optimizer = torch.optim.Rprop(self.model.parameters(), lr=self.eta)  # connect model to optimizer\n",
    "\n",
    "        for i in range(self.epochs):\n",
    "            indices = np.arange(_X_train.shape[0])\n",
    "            self.random.shuffle(indices)  # shuffle the data each epoch\n",
    "\n",
    "            for start_idx in range(0, indices.shape[0] - self.minibatch_size + 1, self.minibatch_size):\n",
    "                batch_idx = indices[start_idx:start_idx + self.minibatch_size]\n",
    "                self.optimizer.zero_grad()\n",
    "                \n",
    "                net_out = self.model(_X_train[batch_idx])\n",
    "                \n",
    "                loss = self.loss_func(net_out, _y_train[batch_idx])\n",
    "                loss.backward()\n",
    "                self.optimizer.step()\n",
    "                \n",
    "                if info:\n",
    "                    sys.stderr.write(f\"\\r{i+1:03d} Loss: {loss.item():6.5f}\")\n",
    "                    sys.stderr.flush()\n",
    "        return self"
   ]
  },
  {
   "cell_type": "code",
   "execution_count": null,
   "id": "a7de3720",
   "metadata": {},
   "outputs": [],
   "source": [
    "class MLP2(PyTorchMLP):\n",
    "    def init_layers(self, _M, _K):\n",
    "        self.model = torch.nn.Sequential(\n",
    "            torch.nn.Linear(_M, self.n_hidden),\n",
    "            torch.nn.Sigmoid(),\n",
    "            torch.nn.Dropout(0.1),\n",
    "            torch.nn.Linear(self.n_hidden, self.n_hidden),\n",
    "            torch.nn.Sigmoid(),\n",
    "            torch.nn.Dropout(0.1),\n",
    "            torch.nn.Linear(self.n_hidden, self.n_hidden_2),\n",
    "            torch.nn.Sigmoid(),\n",
    "            torch.nn.Dropout(0.1),\n",
    "            torch.nn.Linear(self.n_hidden_2, self.n_hidden_2),\n",
    "            torch.nn.ReLU(),\n",
    "            torch.nn.Dropout(0.1),\n",
    "            torch.nn.Linear(self.n_hidden_2, _K),\n",
    "        )"
   ]
  },
  {
   "cell_type": "code",
   "execution_count": null,
   "id": "947532b1",
   "metadata": {},
   "outputs": [],
   "source": [
    "X_rs,y_rs,X_ts,y_ts = X_r.to_numpy(),y_r.to_numpy(),X_s.to_numpy(),y_s.to_numpy()"
   ]
  },
  {
   "cell_type": "code",
   "execution_count": null,
   "id": "150dd834",
   "metadata": {},
   "outputs": [],
   "source": [
    "nn1 = PyTorchMLP(n_hidden=20,n_hidden_2=25, epochs=100, eta=0.001, minibatch_size=X_rs.shape[0]).fit(X_rs,y_rs)\n",
    "nn2 = MLP2(n_hidden=20,n_hidden_2=25, epochs=100, eta=0.001, minibatch_size=X_rs.shape[0]).fit(X_rs,y_rs)"
   ]
  },
  {
   "cell_type": "code",
   "execution_count": null,
   "id": "34d4be83",
   "metadata": {},
   "outputs": [],
   "source": []
  },
  {
   "cell_type": "code",
   "execution_count": null,
   "id": "ed19085d",
   "metadata": {},
   "outputs": [],
   "source": []
  },
  {
   "cell_type": "code",
   "execution_count": null,
   "id": "4de2e935",
   "metadata": {},
   "outputs": [],
   "source": []
  },
  {
   "cell_type": "code",
   "execution_count": null,
   "id": "4fd84c5d",
   "metadata": {},
   "outputs": [],
   "source": []
  },
  {
   "cell_type": "code",
   "execution_count": null,
   "id": "0ca1bc96",
   "metadata": {},
   "outputs": [],
   "source": [
    "print(f'NN 1 Test Acc= {accuracy_score(nn1.predict(X_ts), y_ts):.5f}')\n",
    "print(f'NN 2 (with dropout) Test Acc= {accuracy_score(nn2.predict(X_ts), y_ts):.5f}')\n",
    "#A more robust model does not overfit but does not sacrifice accuracy, so it is preferred."
   ]
  },
  {
   "cell_type": "code",
   "execution_count": null,
   "id": "e1237fe0",
   "metadata": {},
   "outputs": [],
   "source": [
    "from sklearn.model_selection import cross_val_score"
   ]
  },
  {
   "cell_type": "code",
   "execution_count": null,
   "id": "ed513c82",
   "metadata": {},
   "outputs": [],
   "source": [
    "from sklearn.ensemble import RandomForestClassifier"
   ]
  },
  {
   "cell_type": "code",
   "execution_count": null,
   "id": "76d54901",
   "metadata": {},
   "outputs": [],
   "source": [
    "Alpha=9.55 *(10**-5)\n",
    "rf1 = RandomForestClassifier()\n",
    "rf2 = RandomForestClassifier(ccp_alpha=Alpha)"
   ]
  },
  {
   "cell_type": "code",
   "execution_count": null,
   "id": "28e7cccd",
   "metadata": {},
   "outputs": [],
   "source": [
    "scores = cross_val_score(rf1, X, y, cv=10)\n",
    "print(\"random forest no pruning: %0.2f accuracy with a standard deviation of %0.2f\" % (scores.mean(), scores.std()))"
   ]
  },
  {
   "cell_type": "code",
   "execution_count": null,
   "id": "56767424",
   "metadata": {},
   "outputs": [],
   "source": [
    "scores = cross_val_score(rf2, X, y, cv=10)\n",
    "print(\"random forest pruning: %0.2f accuracy with a standard deviation of %0.2f\" % (scores.mean(), scores.std()))"
   ]
  },
  {
   "cell_type": "code",
   "execution_count": null,
   "id": "7da75297",
   "metadata": {},
   "outputs": [],
   "source": [
    "from sklearn.model_selection import KFold"
   ]
  },
  {
   "cell_type": "code",
   "execution_count": null,
   "id": "4ddcd692",
   "metadata": {},
   "outputs": [],
   "source": [
    "kf = KFold(n_splits=10)"
   ]
  },
  {
   "cell_type": "code",
   "execution_count": null,
   "id": "388725f9",
   "metadata": {},
   "outputs": [],
   "source": [
    "_X,_y = X.to_numpy(), y.to_numpy()"
   ]
  },
  {
   "cell_type": "code",
   "execution_count": null,
   "id": "302733e3",
   "metadata": {},
   "outputs": [],
   "source": [
    "_X,_y = X,y"
   ]
  },
  {
   "cell_type": "code",
   "execution_count": null,
   "id": "5b49d7e0",
   "metadata": {},
   "outputs": [],
   "source": [
    "def tenfold(_clf,_X,_y):\n",
    "    accuracies=[]\n",
    "    for train_index, test_index in kf.split(_X,_y):\n",
    "        _clf.fit(_X[train_index], _y[train_index])\n",
    "        y_pred = _clf.predict(_X[test_index])\n",
    "        accuracies += [accuracy_score(_y[test_index], y_pred)]\n",
    "    return accuracies"
   ]
  },
  {
   "cell_type": "code",
   "execution_count": null,
   "id": "10bf4d12",
   "metadata": {},
   "outputs": [],
   "source": [
    "scores = tenfold(nn1, _X,_y)\n"
   ]
  },
  {
   "cell_type": "code",
   "execution_count": null,
   "id": "6e47c03e",
   "metadata": {},
   "outputs": [],
   "source": [
    "import numpy as np"
   ]
  },
  {
   "cell_type": "code",
   "execution_count": null,
   "id": "ea39846b",
   "metadata": {},
   "outputs": [],
   "source": [
    "scores = np.array(scores)\n",
    "print(\"neural net no dropout: %0.2f accuracy with a standard deviation of %0.2f\" % (scores.mean(), scores.std()))"
   ]
  },
  {
   "cell_type": "code",
   "execution_count": null,
   "id": "79413d05",
   "metadata": {},
   "outputs": [],
   "source": [
    "scores = tenfold(nn2, _X,_y)\n",
    "scores = np.array(scores)\n",
    "print(\"neural net dropout: %0.2f accuracy with a standard deviation of %0.2f\" % (scores.mean(), scores.std()))"
   ]
  }
 ],
 "metadata": {
  "kernelspec": {
   "display_name": "Python 3",
   "language": "python",
   "name": "python3"
  },
  "language_info": {
   "codemirror_mode": {
    "name": "ipython",
    "version": 3
   },
   "file_extension": ".py",
   "mimetype": "text/x-python",
   "name": "python",
   "nbconvert_exporter": "python",
   "pygments_lexer": "ipython3",
   "version": "3.8.8"
  }
 },
 "nbformat": 4,
 "nbformat_minor": 5
}
